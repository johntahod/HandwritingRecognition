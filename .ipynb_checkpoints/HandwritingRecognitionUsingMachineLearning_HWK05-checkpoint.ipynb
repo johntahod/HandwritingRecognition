{
 "cells": [
  {
   "cell_type": "markdown",
   "metadata": {},
   "source": [
    "# Jonathan Tahod \n",
    "\n",
    "## Question1: Handwriting Recognition using Machine Learning! \n",
    "## a- Check the dataset “Digit” in HW5 package. It includes 1700 small images (8x8 pixels), each one includes a hand-written digit (0-9). You have to download the corresponding csv file that includes the labels of the images. The goal is to build a Machine Learning Algorithm that can recognize the hand-written digits! \n",
    "## Import the following two libraries to work with images:\n",
    "##  import matplotlib.image as mpimg import matplotlib.pyplot as plt\n",
    "## you can use:\n",
    "mpimg.imread(file_name) to load an image, and\n",
    "plt.imshow(image_name, cmap=plt.cm.gray_r, interpolation='nearest') to show an image.\n",
    "Add %matplotlib inline at top of your code to make sure that the images will be shown inside the Jupyter explorer page.\n",
    "\n"
   ]
  },
  {
   "cell_type": "code",
   "execution_count": 4,
   "metadata": {},
   "outputs": [],
   "source": [
    "import matplotlib.image as mpimg \n",
    "import matplotlib.pyplot as plt\n",
    "import numpy as np\n",
    "import pandas as pd\n",
    "from sklearn.metrics import accuracy_score\n",
    "\n",
    "\n",
    "\n",
    "\n",
    "%matplotlib inline\n",
    "# load image\n",
    "# for testing\n",
    "img = mpimg.imread('Digit/0.jpg')\n",
    "\n",
    "# print(img)\n",
    "\n",
    "# plt.imshow(img, cmap=plt.cm.gray_r, interpolation='nearest')\n",
    "\n",
    "data = []\n",
    "for i in range(1700):\n",
    "    img = mpimg.imread('Digit/'+str(i)+'.jpg')\n",
    "#     reshape matrix for part B\n",
    "    feature = img.reshape(-1)                #  (64,)\n",
    "    data.append(feature)\n",
    "#     plt.imshow(img, cmap=\"Greys\")\n",
    "#     plt.show()\n",
    "# print (data[0:10])"
   ]
  },
  {
   "cell_type": "markdown",
   "metadata": {},
   "source": [
    "##  b- Build the feature matrix and label vector: Each image is considered as a data sample with pixels as features. Thus, to build the feature table you have to convert each 8x8 image into an array of 64 elements (i.e. 64 pixels), and put it as a row of the feature matrix with 64 feature columns. (done in part A in for loop )"
   ]
  },
  {
   "cell_type": "code",
   "execution_count": 5,
   "metadata": {},
   "outputs": [
    {
     "name": "stdout",
     "output_type": "stream",
     "text": [
      "(1700,)\n",
      "(1700, 64)\n"
     ]
    }
   ],
   "source": [
    "X = np.array(data)\n",
    "\n",
    "y = pd.read_csv('label.csv')\n",
    "y = y['digit label']\n",
    "print (y.shape)\n",
    "print(X.shape)\n"
   ]
  },
  {
   "cell_type": "markdown",
   "metadata": {},
   "source": [
    "##  c- Use sklearn functions to split the dataset into testing and training sets with the following parameters: test_size=0.1, random_state=3."
   ]
  },
  {
   "cell_type": "code",
   "execution_count": 6,
   "metadata": {},
   "outputs": [
    {
     "name": "stdout",
     "output_type": "stream",
     "text": [
      "(170,)\n",
      "(170, 64)\n"
     ]
    }
   ],
   "source": [
    "\n",
    "\n",
    "from sklearn.model_selection import train_test_split\n",
    "\n",
    "X_train, X_test, y_train, y_test = train_test_split(X, y, test_size=0.1, \n",
    "                                                    random_state=3)\n",
    "\n",
    "print(y_test.shape)\n",
    "print(X_test.shape)"
   ]
  },
  {
   "cell_type": "markdown",
   "metadata": {},
   "source": [
    "## d - Use scikit-learn “Random Forest” classifier to recognize the hand-written digits based on the training/testing datasets that you built in part (c). Use this command to import and define your classifier:    Use my_RandomForest.fit for training your random forest classifier and my_RandomForest.predict for prediction. Test your Machine Learning Algorithm on testing set (from part(c)), and calculate and report the accuracy.\n",
    "\n"
   ]
  },
  {
   "cell_type": "code",
   "execution_count": 7,
   "metadata": {},
   "outputs": [
    {
     "data": {
      "text/plain": [
       "RandomForestClassifier(n_estimators=19, random_state=3)"
      ]
     },
     "execution_count": 7,
     "metadata": {},
     "output_type": "execute_result"
    }
   ],
   "source": [
    "from sklearn.ensemble import RandomForestClassifier\n",
    "my_RandomForest =RandomForestClassifier(n_estimators = 19, bootstrap = True, random_state=3)\n",
    "\n",
    "my_RandomForest.fit(X_train,y_train)"
   ]
  },
  {
   "cell_type": "code",
   "execution_count": null,
   "metadata": {},
   "outputs": [],
   "source": [
    "\n"
   ]
  },
  {
   "cell_type": "markdown",
   "metadata": {},
   "source": [
    "## e- Write some codes to find which one of the data samples (i.e. which images) have been misclassified (classified incorrectly) in your testing set. Then, use the following command to show the misclassified images:          \n",
    "## plt.imshow(image_name, cmap=plt.cm.gray_r, interpolation='nearest')\n"
   ]
  },
  {
   "cell_type": "code",
   "execution_count": 8,
   "metadata": {},
   "outputs": [
    {
     "name": "stdout",
     "output_type": "stream",
     "text": [
      "[7 7 9 8 8 2 2 8 9 6 7 6 4 6 3 9 3 1 5 8 6 4 2 4 3 4 1 6 6 0 1 6 2 1 2 4 4\n",
      " 9 4 2 7 7 0 4 1 1 9 0 6 8 4 5 1 7 3 3 0 7 2 7 1 3 4 5 7 6 3 3 8 7 0 6 2 7\n",
      " 9 4 3 9 3 8 4 7 1 6 1 5 1 0 5 0 1 2 6 0 7 0 6 8 1 2 5 0 7 6 8 0 6 7 0 9 8\n",
      " 8 1 5 5 1 2 8 7 4 3 8 3 9 5 9 3 3 5 3 3 6 3 7 8 7 3 6 8 8 7 8 5 6 1 1 3 1\n",
      " 8 3 7 3 0 5 5 1 4 2 1 6 5 1 1 9 2 8 5 1 9 1]\n",
      "0.9588235294117647\n",
      "test:  7\n",
      "prediction:  1\n"
     ]
    },
    {
     "data": {
      "image/png": "[encoded data removed]",
      "text/plain": [
       "<Figure size 432x288 with 1 Axes>"
      ]
     },
     "metadata": {
      "needs_background": "light"
     },
     "output_type": "display_data"
    },
    {
     "name": "stdout",
     "output_type": "stream",
     "text": [
      "test:  8\n",
      "prediction:  1\n"
     ]
    },
    {
     "data": {
      "image/png": "[encoded data removed]",
      "text/plain": [
       "<Figure size 432x288 with 1 Axes>"
      ]
     },
     "metadata": {
      "needs_background": "light"
     },
     "output_type": "display_data"
    },
    {
     "name": "stdout",
     "output_type": "stream",
     "text": [
      "test:  4\n",
      "prediction:  7\n"
     ]
    },
    {
     "data": {
      "image/png": "[encoded data removed]",
      "text/plain": [
       "<Figure size 432x288 with 1 Axes>"
      ]
     },
     "metadata": {
      "needs_background": "light"
     },
     "output_type": "display_data"
    },
    {
     "name": "stdout",
     "output_type": "stream",
     "text": [
      "test:  4\n",
      "prediction:  9\n"
     ]
    },
    {
     "data": {
      "image/png": "[encoded data removed]",
      "text/plain": [
       "<Figure size 432x288 with 1 Axes>"
      ]
     },
     "metadata": {
      "needs_background": "light"
     },
     "output_type": "display_data"
    },
    {
     "name": "stdout",
     "output_type": "stream",
     "text": [
      "test:  3\n",
      "prediction:  5\n"
     ]
    },
    {
     "data": {
      "image/png": "[encoded data removed]",
      "text/plain": [
       "<Figure size 432x288 with 1 Axes>"
      ]
     },
     "metadata": {
      "needs_background": "light"
     },
     "output_type": "display_data"
    },
    {
     "name": "stdout",
     "output_type": "stream",
     "text": [
      "test:  9\n",
      "prediction:  7\n"
     ]
    },
    {
     "data": {
      "image/png": "[encoded data removed]",
      "text/plain": [
       "<Figure size 432x288 with 1 Axes>"
      ]
     },
     "metadata": {
      "needs_background": "light"
     },
     "output_type": "display_data"
    },
    {
     "name": "stdout",
     "output_type": "stream",
     "text": [
      "test:  3\n",
      "prediction:  8\n"
     ]
    },
    {
     "data": {
      "image/png": "[encoded data removed]",
      "text/plain": [
       "<Figure size 432x288 with 1 Axes>"
      ]
     },
     "metadata": {
      "needs_background": "light"
     },
     "output_type": "display_data"
    }
   ],
   "source": [
    "#part e\n",
    "test = y_test.ravel()\n",
    "prediction = my_RandomForest.predict(X_test)\n",
    "print(prediction)\n",
    "\n",
    "score_rf = accuracy_score(test, prediction)\n",
    "\n",
    "print(score_rf)\n",
    "\n",
    "\n",
    "for i in range(170):\n",
    "    if(test[i] != prediction[i]):\n",
    "        print(\"test: \",test[i])\n",
    "        print(\"prediction: \",prediction[i])\n",
    "        plt.imshow(mpimg.imread('Digit/'+str(i)+'.jpg'), cmap=plt.cm.gray_r, interpolation='nearest')\n",
    "        plt.pause(.1)\n",
    "\n",
    "\n",
    "        \n",
    "\n"
   ]
  },
  {
   "cell_type": "code",
   "execution_count": null,
   "metadata": {},
   "outputs": [],
   "source": []
  },
  {
   "cell_type": "code",
   "execution_count": null,
   "metadata": {},
   "outputs": [],
   "source": []
  },
  {
   "cell_type": "code",
   "execution_count": null,
   "metadata": {},
   "outputs": [],
   "source": []
  },
  {
   "cell_type": "code",
   "execution_count": null,
   "metadata": {},
   "outputs": [],
   "source": []
  },
  {
   "cell_type": "code",
   "execution_count": null,
   "metadata": {},
   "outputs": [],
   "source": []
  }
 ],
 "metadata": {
  "kernelspec": {
   "display_name": "Python 3",
   "language": "python",
   "name": "python3"
  },
  "language_info": {
   "codemirror_mode": {
    "name": "ipython",
    "version": 3
   },
   "file_extension": ".py",
   "mimetype": "text/x-python",
   "name": "python",
   "nbconvert_exporter": "python",
   "pygments_lexer": "ipython3",
   "version": "3.7.4"
  }
 },
 "nbformat": 4,
 "nbformat_minor": 2
}
